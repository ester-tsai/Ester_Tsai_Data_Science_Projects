{
 "cells": [
  {
   "cell_type": "markdown",
   "metadata": {},
   "source": [
    "# EEP Combine Content and Market Sheets, Then Append Student Names to Analytics Report (to be reused)\n",
    "\n",
    "Document Instructions: https://docs.google.com/document/d/1Hh09EyCa4iRDEybzRZOcHJr5-azNS5GOTAM1Wl1ymPQ/edit?usp=sharing\n",
    "\n",
    "Video Tutorial: https://loom.com/share/c32602e3c17b480b922e957cd32b7c12\n",
    "\n",
    "## Basic Jupyter Notebook Operations\n",
    "\n",
    "to run a cell (a gray box): CTRL+ENTER or SHIFT+ENTER\n",
    "\n",
    "to comment/ uncomment a line or selected lines: CTRL+/ "
   ]
  },
  {
   "cell_type": "code",
   "execution_count": null,
   "metadata": {},
   "outputs": [],
   "source": [
    "# pandas is a Python library for working with data tables. It contains helpful functions that we can call on.\n",
    "import pandas as pd\n",
    "import numpy as np"
   ]
  },
  {
   "cell_type": "markdown",
   "metadata": {},
   "source": [
    "## 1. Combine Content Sheet and Market Sheet\n",
    "Content Sheet link: https://docs.google.com/spreadsheets/d/1lyt-nnXbloOmpOLV6qVQPvcVKFzvgIKOZeX2G5vR2B0/edit#gid=1548859272\n",
    "\n",
    "Market Sheet link: https://docs.google.com/spreadsheets/d/1NNPYU5KycjL2gFdJYh0ogwjWQjfcOFWV/edit#gid=409638312\n",
    "\n",
    "### 1.1 Read In the Data Tables\n",
    "Download a specific sheet from Google Sheet by clicking File -> Download -> Comma-separated values (.csv, current sheet).\n",
    "\n",
    "Get the CSV file's directory path by right-clicking on the CSV file, click \"Properties\", then copy paste the text to the right of \"Location\". Change all the backslashes (\"\\\\\") to forwardslashes (\"/\"), then add the full file name (e.g. file_name.csv) at the end."
   ]
  },
  {
   "cell_type": "code",
   "execution_count": null,
   "metadata": {},
   "outputs": [],
   "source": [
    "today_date = \"2021-08-20\" # change to today's date in YYYY-MM-DD format\n",
    "\n",
    "folder_directory_path = \"C:/Users/tsaie/OneDrive/Desktop/EEP/DBM/Appending to Analytics Report\" + \"/\"\n",
    "\n",
    "content_sheet_file_name = \".csv\"\n",
    "market_sheet_file_name = \".csv\"\n",
    "market_sheet_last_row_index = 154 # we will remove all the unwanted rows below this row\n",
    "\n",
    "'''\n",
    "To easily convert student names to their corresponding team numbers,\n",
    "create a file of just 2 columns: \"Student\" (student full name) and \"Team Number\" (just the number).\n",
    "Create this file by downloading and cleaning the first tab in the Time and Accomplishment Tracker.\n",
    "'''\n",
    "student_team_num_file_name = \"students and teams.csv\"\n",
    "\n",
    "\n",
    "content_sheet_directory_path = folder_directory_path + content_sheet_file_name\n",
    "print(content_sheet_directory_path)\n",
    "market_sheet_directory_path = folder_directory_path + market_sheet_file_name\n",
    "print(market_sheet_directory_path)\n",
    "student_team_num_directory_path = folder_directory_path + student_team_num_file_name\n",
    "print(student_team_num_directory_path)"
   ]
  },
  {
   "cell_type": "markdown",
   "metadata": {},
   "source": [
    "### (For the rest of Section 1.1 and 1.2, simply run the cells. No need to change anything in the cells unless column names have changed.)"
   ]
  },
  {
   "cell_type": "code",
   "execution_count": null,
   "metadata": {},
   "outputs": [],
   "source": [
    "content_sheet = pd.read_csv(content_sheet_directory_path)\n",
    "content_sheet_primary_key = \"Final URL (ONLY IF LIVE)\"\n",
    "\n",
    "# Make sure the primary key is in string/text format:\n",
    "content_sheet[content_sheet_primary_key] = content_sheet[content_sheet_primary_key].astype(\"str\")\n",
    "\n",
    "# Display table\n",
    "content_sheet"
   ]
  },
  {
   "cell_type": "code",
   "execution_count": null,
   "metadata": {},
   "outputs": [],
   "source": [
    "market_sheet = pd.read_csv(market_sheet_directory_path).iloc[:market_sheet_last_row_index+3] # remove unecessary rows\n",
    "market_sheet_primary_key = \"market url\"\n",
    "\n",
    "# Make sure the primary key is in string/text format:\n",
    "market_sheet[market_sheet_primary_key] = market_sheet[market_sheet_primary_key].astype(\"str\")\n",
    "\n",
    "# Display table\n",
    "market_sheet"
   ]
  },
  {
   "cell_type": "code",
   "execution_count": null,
   "metadata": {},
   "outputs": [],
   "source": [
    "student_team_num = pd.read_csv(student_team_num_directory_path)\n",
    "student_team_num_primary_key = \"Name\"\n",
    "\n",
    "# make sure the primary key is in string/text format:\n",
    "student_team_num[student_team_num_primary_key] = student_team_num[student_team_num_primary_key].astype(\"str\")\n",
    "student_team_num[\"Team Number\"] = student_team_num[\"Team Number\"].apply(lambda x: str(x).replace(\".0\",\"\"))\n",
    "\n",
    "# set index to student name\n",
    "student_team_num = student_team_num.set_index(student_team_num_primary_key)\n",
    "\n",
    "# Display table\n",
    "student_team_num"
   ]
  },
  {
   "cell_type": "markdown",
   "metadata": {},
   "source": [
    "### 1.2 Create and Fill a New DataFrame "
   ]
  },
  {
   "cell_type": "code",
   "execution_count": null,
   "metadata": {},
   "outputs": [],
   "source": [
    "is_successful = True\n",
    "\n",
    "# Define column names\n",
    "primary_key = 'URL'\n",
    "URL_type = 'URL Type'\n",
    "students_involved = 'Students Involved'\n",
    "team_number = 'Team Number'\n",
    "\n",
    "# Create DataFrame using the column names we just defined\n",
    "combined = pd.DataFrame(columns = [primary_key, URL_type, students_involved, team_number])\n",
    "\n",
    "# Append from Content Sheet to the new DataFrame row by row\n",
    "for index, row in content_sheet.iterrows():\n",
    "    try:\n",
    "        url = row[content_sheet_primary_key]\n",
    "        content_type = str(row[\"Content Type\"])\n",
    "        students = str(row[\"Students who've worked on article\"]) if str(row[\"Students who've worked on article\"]) != \"nan\" else None\n",
    "\n",
    "        # Checks if url exists for this row\n",
    "        if url != \"nan\": \n",
    "            \n",
    "            teams = \"\"\n",
    "            # if students is not empty, find all the teams involved based on the student names and the student_team_num table\n",
    "            if students != None:\n",
    "                for name in students.split(\", \"):\n",
    "                    if \" (coach)\" in name:\n",
    "                        name = name[:-len(\" (coach)\")]\n",
    "                    if name in student_team_num.index:\n",
    "                        team_num = str(student_team_num.loc[name].get(\"Team Number\"))\n",
    "                        if team_num not in teams:\n",
    "                            teams += \"Team \" + team_num + \", \"\n",
    "                if len(teams) > 0:\n",
    "                    teams = teams[:-2] # to remove the final \", \"\n",
    "\n",
    "            # Append the row\n",
    "            combined = combined.append({primary_key : url, \n",
    "                                        URL_type : content_type, \n",
    "                                        students_involved : students, \n",
    "                                        team_number : teams},\n",
    "                                        ignore_index = True)\n",
    "    except:\n",
    "        print(\"Content Sheet | Index \", index, \"produced error |\", row[content_sheet_primary_key])\n",
    "        is_successful = False\n",
    "\n",
    "        \n",
    "# Append from Market Sheet to the new DataFrame row by row\n",
    "for index, row in market_sheet.iterrows():\n",
    "    try:\n",
    "        url = row[market_sheet_primary_key]\n",
    "        students = str(row[\"Students who've worked on market\"]) if str(row[\"Students who've worked on market\"]) != \"nan\" else None\n",
    "        team_num = str(row[\"Team Number\"]) if str(row[\"Team Number\"]) != \"nan\" else None\n",
    "\n",
    "        # Checks if url exists for this row\n",
    "        if url != \"nan\": \n",
    "\n",
    "            # Append the row\n",
    "            combined = combined.append({primary_key : url, \n",
    "                                        URL_type : \"Market\", \n",
    "                                        students_involved : students, \n",
    "                                        team_number : team_num},\n",
    "                                        ignore_index = True)\n",
    "    except:\n",
    "        print(\"Market Sheet | Index\", index, \"produced error\") # errors shouldn't happen\n",
    "        is_successful = False\n",
    "\n",
    "if is_successful:\n",
    "    print(\"Successfully combined Content sheet and Market sheet. Please move on to the next cell.\")"
   ]
  },
  {
   "cell_type": "markdown",
   "metadata": {},
   "source": [
    "### 1.3 Save the Result to Your Local PC, in the Same Folder as the Source Files\n",
    "\n",
    "If you wish to save the result in another folder, replace folder_directory_path with the directory path you want.\n",
    "\n",
    "Name this file “RESULT YYYY-MM-DD Student Names for Content and Market URLs YYYY-MM-DD v1.xlsx”\n",
    "- Change v1 to the version number for today, starting at v1, then v2, v3, etc.\n"
   ]
  },
  {
   "cell_type": "code",
   "execution_count": null,
   "metadata": {},
   "outputs": [],
   "source": [
    "result_file_name = \"RESULT {date} Student Names for Content and Market URLs v1.xlsx\".format(date=today_date)\n",
    "combined.to_excel(folder_directory_path + result_file_name)\n",
    "print(\"Successfully saved resulting file as\", result_file_name)"
   ]
  },
  {
   "cell_type": "markdown",
   "metadata": {},
   "source": [
    "## 2. Append Student Names and Team Numbers to Analytics Report"
   ]
  },
  {
   "cell_type": "markdown",
   "metadata": {},
   "source": [
    "### 2.1 Read In the Data Tables\n",
    "\n",
    "Note: It is ok to have a CSV file open when you read it in, but to successfully read in an Excel file (.xlsx), you cannot have the file open when you run the cell, or it will produce an error. You can open the Excel file after running the cell and reading in the file."
   ]
  },
  {
   "cell_type": "code",
   "execution_count": null,
   "metadata": {
    "scrolled": true
   },
   "outputs": [],
   "source": [
    "append_from = pd.read_excel(folder_directory_path + result_file_name)\n",
    "append_from_primary_key = 'URL'\n",
    "\n",
    "# Make sure the primary key is in string/text format, and remove any slash at the end of the URL\n",
    "append_from[append_from_primary_key] = append_from[append_from_primary_key].apply(lambda x: str(x)[:-1] if str(x)[-1] == \"/\" else str(x))\n",
    "\n",
    "# Set 'URL' as index\n",
    "append_from = append_from.set_index(append_from_primary_key)\n",
    "\n",
    "# Display table\n",
    "append_from"
   ]
  },
  {
   "cell_type": "code",
   "execution_count": null,
   "metadata": {},
   "outputs": [],
   "source": [
    "# append_to is the dataframe that we want to append data to. In this case the append_to is the analytics report.\n",
    "analytics_report_file_name = \".csv\"\n",
    "append_to = pd.read_csv(folder_directory_path + analytics_report_file_name)\n",
    "append_to_primary_key = 'URL'\n",
    "\n",
    "# make sure the primary key is in string/text format:\n",
    "append_to[append_to_primary_key] = append_to[append_to_primary_key].astype(\"str\")\n",
    "\n",
    "# Display table\n",
    "append_to"
   ]
  },
  {
   "cell_type": "markdown",
   "metadata": {},
   "source": [
    "### 2.2 Append Student Names and Team Numbers to Analytics Report\n",
    "\n",
    "Just run the cells, no need to change anything except for the name of the resulting file."
   ]
  },
  {
   "cell_type": "code",
   "execution_count": null,
   "metadata": {},
   "outputs": [],
   "source": [
    "append_to_col_1 = \"URL Type (appended {date})\".format(date=today_date)\n",
    "append_to_col_2 = \"Students Involved (appended {date})\".format(date=today_date)\n",
    "append_to_col_3 = \"Teams Involved (appended {date})\".format(date=today_date)\n",
    "append_to[append_to_col_1] = pd.Series(dtype=\"str\")\n",
    "append_to[append_to_col_2] = pd.Series(dtype=\"str\")\n",
    "append_to[append_to_col_3] = pd.Series(dtype=\"str\")\n",
    "\n",
    "for index, row in append_to.iterrows():\n",
    "    row_id = row[append_to_primary_key]\n",
    "    if row_id in append_from.index:\n",
    "        append_from_row = append_from.loc[row_id]\n",
    "        append_to.at[index, append_to_col_1] = str(append_from_row.get(URL_type))\n",
    "        append_to.at[index, append_to_col_2] = str(append_from_row.get(students_involved))\n",
    "        append_to.at[index, append_to_col_3] = str(append_from_row.get(team_number)) if str(append_from_row.get(team_number)) != \"nan\" else None\n",
    "        print(\"Index: {i} | {var1}: {var1_result} | {var2}: {var2_result} | {var3}: {var3_result}\".format(\n",
    "               i=index, \n",
    "               var1=URL_type, var1_result=append_from_row.get(URL_type),\n",
    "               var2=students_involved, var2_result=append_from_row.get(students_involved),\n",
    "               var3=team_number, var3_result=append_from_row.get(team_number)))\n",
    "    else:\n",
    "        print(\"couldn't find \" + row_id) # don't worry, it is normal that some URLs can't be found"
   ]
  },
  {
   "cell_type": "code",
   "execution_count": null,
   "metadata": {},
   "outputs": [],
   "source": [
    "# Display final result\n",
    "append_to"
   ]
  },
  {
   "cell_type": "markdown",
   "metadata": {},
   "source": [
    "### 2.3 Save the Result to Your Local PC, in the Same Folder as the Source Files\n",
    "If you wish to save the result in another folder, replace folder_directory_path with the directory path you want.\n",
    "\n",
    "Name this file “RESULT YYYY-MM-DD Analytics Report Appended Student Names and Teams v1.xlsx”\n",
    "- Change v1 to the version number for today, starting at v1, then v2, v3, etc."
   ]
  },
  {
   "cell_type": "code",
   "execution_count": null,
   "metadata": {},
   "outputs": [],
   "source": [
    "result_file_name = \"RESULT {date} Analytics Report Appended Student Names and Teams v1.xlsx\".format(date=today_date)\n",
    "append_to.to_excel(folder_directory_path + result_file_name)\n",
    "print(\"Successfully saved resulting file as\", result_file_name)"
   ]
  },
  {
   "cell_type": "markdown",
   "metadata": {},
   "source": [
    "## End. Remember to spot check the file for errors."
   ]
  }
 ],
 "metadata": {
  "kernelspec": {
   "display_name": "Python 3",
   "language": "python",
   "name": "python3"
  },
  "language_info": {
   "codemirror_mode": {
    "name": "ipython",
    "version": 3
   },
   "file_extension": ".py",
   "mimetype": "text/x-python",
   "name": "python",
   "nbconvert_exporter": "python",
   "pygments_lexer": "ipython3",
   "version": "3.8.3"
  }
 },
 "nbformat": 4,
 "nbformat_minor": 5
}
